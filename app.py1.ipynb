{
 "cells": [
  {
   "cell_type": "code",
   "execution_count": 3,
   "metadata": {
    "_cell_guid": "b1076dfc-b9ad-4769-8c92-a6c4dae69d19",
    "_uuid": "8f2839f25d086af736a60e9eeb907d3b93b6e0e5",
    "execution": {
     "iopub.execute_input": "2025-07-03T14:33:38.091382Z",
     "iopub.status.busy": "2025-07-03T14:33:38.091057Z",
     "iopub.status.idle": "2025-07-03T14:33:38.097222Z",
     "shell.execute_reply": "2025-07-03T14:33:38.096444Z",
     "shell.execute_reply.started": "2025-07-03T14:33:38.091356Z"
    },
    "trusted": true
   },
   "outputs": [],
   "source": [
    "# This Python 3 environment comes with many helpful analytics libraries installed\n",
    "# It is defined by the kaggle/python Docker image: https://github.com/kaggle/docker-python\n",
    "# For example, here's several helpful packages to load\n",
    "\n",
    "import numpy as np # linear algebra\n",
    "import pandas as pd # data processing, CSV file I/O (e.g. pd.read_csv)\n",
    "\n",
    "# Input data files are available in the read-only \"../input/\" directory\n",
    "# For example, running this (by clicking run or pressing Shift+Enter) will list all files under the input directory\n",
    "\n",
    "import os\n",
    "for dirname, _, filenames in os.walk('/kaggle/input'):\n",
    "    for filename in filenames:\n",
    "        print(os.path.join(dirname, filename))\n",
    "\n",
    "# You can write up to 20GB to the current directory (/kaggle/working/) that gets preserved as output when you create a version using \"Save & Run All\" \n",
    "# You can also write temporary files to /kaggle/temp/, but they won't be saved outside of the current session"
   ]
  },
  {
   "cell_type": "code",
   "execution_count": null,
   "metadata": {
    "execution": {
     "iopub.execute_input": "2025-07-03T14:33:42.481015Z",
     "iopub.status.busy": "2025-07-03T14:33:42.480355Z",
     "iopub.status.idle": "2025-07-03T14:33:42.486876Z",
     "shell.execute_reply": "2025-07-03T14:33:42.486226Z",
     "shell.execute_reply.started": "2025-07-03T14:33:42.480984Z"
    },
    "trusted": true
   },
   "outputs": [
    {
     "name": "stdout",
     "output_type": "stream",
     "text": [
      "Writing app.py\n"
     ]
    }
   ],
   "source": [
    "%%writefile app.py\n",
    "import streamlit as st\n",
    "import pandas as pd\n",
    "import joblib \n",
    "\n",
    "st.title(\"🔍 URL Safety Checker\")\n",
    "\n",
    "\n",
    "user_input = st.text_input(\"Enter a URL to check if it's Safe or Not Safe\")\n",
    "\n",
    "import re\n",
    "\n",
    "def extract_features(url):\n",
    "    return {\n",
    "        'has_https': 1 if 'https' in url.lower() else 0,\n",
    "        'url_length': len(url),\n",
    "        'num_dots': url.count('.'),\n",
    "        'has_ip': 1 if re.match(r'^http[s]?://\\d+\\.\\d+\\.\\d+\\.\\d+', url) else 0\n",
    "    }\n",
    "\n",
    "if user_input:\n",
    "    features = extract_features(user_input)\n",
    "    input_df = pd.DataFrame([features])\n",
    "    \n",
    "\n",
    "    prediction = \"safe\" if features['has_https'] == 1 else \"not_safe\" \n",
    "\n",
    "    st.markdown(f\"### ✅ Result: **{prediction.upper()}**\")\n"
   ]
  }
 ],
 "metadata": {
  "kaggle": {
   "accelerator": "none",
   "dataSources": [],
   "dockerImageVersionId": 31040,
   "isGpuEnabled": false,
   "isInternetEnabled": true,
   "language": "python",
   "sourceType": "notebook"
  },
  "kernelspec": {
   "display_name": "Python 3",
   "language": "python",
   "name": "python3"
  },
  "language_info": {
   "codemirror_mode": {
    "name": "ipython",
    "version": 3
   },
   "file_extension": ".py",
   "mimetype": "text/x-python",
   "name": "python",
   "nbconvert_exporter": "python",
   "pygments_lexer": "ipython3",
   "version": "3.11.11"
  }
 },
 "nbformat": 4,
 "nbformat_minor": 4
}
